{
 "cells": [
  {
   "cell_type": "code",
   "execution_count": null,
   "metadata": {},
   "outputs": [],
   "source": [
    "import re\n",
    "import boto3\n",
    "from datetime import datetime, timedelta"
   ]
  },
  {
   "cell_type": "code",
   "execution_count": null,
   "metadata": {},
   "outputs": [],
   "source": [
    "def list_replication_instances():\n",
    "    client = boto3.client('dms', region_name=\"sa-east-1\")\n",
    "    response = client.describe_replication_configs()\n",
    "    replication_instances = response.get('ReplicationConfigs', [])\n",
    "\n",
    "    results = []\n",
    "    for instance in replication_instances:\n",
    "        results.append({\"name\": instance[\"ReplicationConfigIdentifier\"], \"arn\": instance[\"ReplicationConfigArn\"]})\n",
    "\n",
    "    return results"
   ]
  },
  {
   "cell_type": "code",
   "execution_count": null,
   "metadata": {},
   "outputs": [],
   "source": [
    "def normalize_date(date):\n",
    "    if date is None:\n",
    "        return date\n",
    "    if not isinstance(date, str):\n",
    "        return date - timedelta(hours=3)\n",
    "    return datetime.strptime(date, \"%Y-%m-%d %H:%M:%S.%f\") - timedelta(hours=3)"
   ]
  },
  {
   "cell_type": "code",
   "execution_count": null,
   "metadata": {},
   "outputs": [],
   "source": [
    "def check_value_func(statistics):\n",
    "    value = 0\n",
    "    if statistics.get(\"AppliedInserts\") != 0:\n",
    "        value = statistics.get(\"AppliedInserts\")\n",
    "    elif statistics.get(\"AppliedDeletes\") != 0:\n",
    "        value = statistics.get(\"AppliedDeletes\")\n",
    "    elif statistics.get(\"AppliedUpdates\") != 0:\n",
    "        value = statistics.get(\"AppliedUpdates\")\n",
    "    return value"
   ]
  },
  {
   "cell_type": "code",
   "execution_count": null,
   "metadata": {},
   "outputs": [],
   "source": [
    "def describe_table_statistics(replication_task_arn, prefix):\n",
    "    results = []\n",
    "\n",
    "    client = boto3.client('dms', region_name=\"sa-east-1\")\n",
    "    response = client.describe_replication_table_statistics(ReplicationConfigArn=replication_task_arn, MaxRecords=20)\n",
    "    table_statistics = response.get('ReplicationTableStatistics', [])\n",
    "\n",
    "    for statistics in table_statistics:\n",
    "        table_name = f\"{prefix}_{statistics.get('TableName')}\"\n",
    "        table_name = table_name.replace(\"_default\", \"\")\n",
    "        table_name = re.sub(r\"_\\d{1,4}.*\", \"\", table_name)\n",
    "        exists = any(table_name in d for d in results)\n",
    "        if not exists:\n",
    "            results.append({\n",
    "                \"table_name\": table_name,\n",
    "                \"last_update_time\": str(normalize_date(statistics.get(\"LastUpdateTime\"))),\n",
    "                \"table_state\": statistics.get('TableState'),\n",
    "                \"rows_inserted\": check_value_func(statistics)\n",
    "            })\n",
    "    \n",
    "    while True:\n",
    "        if \"Marker\" in response:\n",
    "            response = client.describe_replication_table_statistics(ReplicationConfigArn=replication_task_arn, MaxRecords=20, Marker=response[\"Marker\"])\n",
    "            table_statistics = response.get('ReplicationTableStatistics', [])\n",
    "            \n",
    "            for statistics in table_statistics:\n",
    "                table_name = f\"{prefix}_{statistics.get('TableName')}\"\n",
    "                table_name = table_name.replace(\"_default\", \"\")\n",
    "                table_name = re.sub(r\"_\\d{1,4}.*\", \"\", table_name)\n",
    "                exists = any(table_name in d for d in results)\n",
    "                if not exists:\n",
    "                    results.append({\n",
    "                        \"table_name\": table_name,\n",
    "                        \"last_update_time\": str(normalize_date(statistics.get(\"LastUpdateTime\"))),\n",
    "                        \"table_state\": statistics.get('TableState'),\n",
    "                        \"rows_inserted\": check_value_func(statistics)\n",
    "                    })\n",
    "        else:\n",
    "            break\n",
    "\n",
    "    return results"
   ]
  },
  {
   "cell_type": "code",
   "execution_count": null,
   "metadata": {},
   "outputs": [],
   "source": [
    "map_db = {\n",
    "    \"db1-cdc\": \"db1\",\n",
    "    \"db2-cdc\": \"db2\",\n",
    "    # \"db3-cdc\": \"db3\"\n",
    "}\n",
    "\n",
    "all_tables = {}\n",
    "results = list_replication_instances()\n",
    "\n",
    "for result in results:\n",
    "    if result[\"name\"] in map_db.keys():\n",
    "        db = map_db[result[\"name\"]]\n",
    "        all_tables[db] = describe_table_statistics(result[\"arn\"], db)\n",
    "\n",
    "dbutils.jobs.taskValues.set(key=\"db1_all_tables\", value=all_tables[\"db1\"])\n",
    "dbutils.jobs.taskValues.set(key=\"db2_all_tables\", value=all_tables[\"db2\"])"
   ]
  }
 ],
 "metadata": {
  "kernelspec": {
   "display_name": "Python 3",
   "language": "python",
   "name": "python3"
  },
  "language_info": {
   "name": "python",
   "version": "3.10.10"
  }
 },
 "nbformat": 4,
 "nbformat_minor": 2
}
